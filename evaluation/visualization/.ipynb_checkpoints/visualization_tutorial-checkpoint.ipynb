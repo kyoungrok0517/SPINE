{
 "cells": [
  {
   "cell_type": "code",
   "execution_count": 1,
   "metadata": {},
   "outputs": [],
   "source": [
    "import visualize_online "
   ]
  },
  {
   "cell_type": "code",
   "execution_count": 3,
   "metadata": {},
   "outputs": [
    {
     "name": "stderr",
     "output_type": "stream",
     "text": [
      "100%|██████████| 15000/15000 [00:37<00:00, 404.66it/s]"
     ]
    },
    {
     "name": "stdout",
     "output_type": "stream",
     "text": [
      "Sparsity = 87.79586\n",
      "done loading vectors\n"
     ]
    },
    {
     "name": "stderr",
     "output_type": "stream",
     "text": [
      "\n"
     ]
    }
   ],
   "source": [
    "# load SPINE vectors (available at https://tinyurl.com/SPINE-VECTORS)\n",
    "visualize_online.load_vectors(\"SPINE_glove.txt\")"
   ]
  },
  {
   "cell_type": "code",
   "execution_count": 4,
   "metadata": {},
   "outputs": [],
   "source": [
    "# precompute top dimensions\n",
    "visualize_online.load_top_dimensions(10)"
   ]
  },
  {
   "cell_type": "markdown",
   "metadata": {},
   "source": [
    "Now lets visualize the vectors, and interpret individual dimensions of a few words. Since the vectors are sparse, we look at the dimensions where this word was (most) active in. For these select dimensions, we find what other words are active."
   ]
  },
  {
   "cell_type": "code",
   "execution_count": 8,
   "metadata": {},
   "outputs": [
    {
     "name": "stdout",
     "output_type": "stream",
     "text": [
      " -----------------------------------------------------\n",
      "Word of interest =  cat\n",
      "The contribution of the word 'cat' in dimension 421 = 0.658700\n",
      "Following are the top words in dimension 421 along with their contributions\n",
      "[(1.0, 'wolves'), (1.0, 'species'), (1.0, 'shark'), (1.0, 'prey'), (1.0, 'fish'), (1.0, 'endangered'), (1.0, 'dolphins'), (1.0, 'deer'), (1.0, 'breeding'), (1.0, 'birds')]\n",
      "The contribution of the word 'cat' in dimension 845 = 0.594563\n",
      "Following are the top words in dimension 845 along with their contributions\n",
      "[(0.830696, 'crab'), (0.828724, 'moth'), (0.804016, 'frog'), (0.705638, 'snake'), (0.698926, 'beetle'), (0.655198, 'snails'), (0.634389, 'honey'), (0.626101, 'yellow'), (0.613882, 'genus'), (0.61158, 'rat')]\n",
      "The contribution of the word 'cat' in dimension 679 = 0.577653\n",
      "Following are the top words in dimension 679 along with their contributions\n",
      "[(1.0, 'panda'), (1.0, 'leopard'), (1.0, 'cub'), (0.890665, 'zoo'), (0.877168, 'cubs'), (0.844279, 'lion'), (0.814919, 'elephants'), (0.813808, 'elephant'), (0.808053, 'tiger'), (0.712485, 'dog')]\n",
      "The contribution of the word 'cat' in dimension 243 = 0.479130\n",
      "Following are the top words in dimension 243 along with their contributions\n",
      "[(1.0, 'your'), (1.0, 'water'), (1.0, 'red'), (1.0, 'inside'), (1.0, 'hands'), (1.0, 'front'), (1.0, 'floor'), (1.0, 'body'), (1.0, 'blue'), (1.0, 'ball')]\n",
      "The contribution of the word 'cat' in dimension 146 = 0.362363\n",
      "Following are the top words in dimension 146 along with their contributions\n",
      "[(0.750588, 'sequel'), (0.666341, 'starring'), (0.648794, 'thriller'), (0.635836, 'witch'), (0.632285, 'phantom'), (0.6315, 'miniseries'), (0.626111, 'adventures'), (0.61112, 'batman'), (0.591966, 'novel'), (0.580837, 'vampire')]\n"
     ]
    }
   ],
   "source": [
    "visualize_online.find_top_participating_dimensions(\"cat\", 5)"
   ]
  },
  {
   "cell_type": "markdown",
   "metadata": {},
   "source": [
    "For the word _remote_, we see that different senses are captured in different dimensions \n",
    "\n",
    "- Remote areas -- provinces, regions, territories etc.\n",
    "- Remote activities -- skiing, camping, hiking etc.\n",
    "- Electronic remote -- voltage, sensors, transmission etc.\n",
    "\n",
    "Further, lets try a few more examples."
   ]
  },
  {
   "cell_type": "code",
   "execution_count": 6,
   "metadata": {},
   "outputs": [
    {
     "name": "stdout",
     "output_type": "stream",
     "text": [
      " -----------------------------------------------------\n",
      "Word of interest =  mathematics\n",
      "The contribution of the word 'mathematics' in dimension 635 = 0.924741\n",
      "Following are the top words in dimension 635 along with their contributions\n",
      "[(1.0, 'sciences'), (1.0, 'honorary'), (1.0, 'faculty'), (1.0, 'doctorate'), (1.0, 'chemistry'), (1.0, 'bachelor'), (1.0, '1893'), (1.0, '1892'), (1.0, '1891'), (1.0, '1887')]\n",
      "The contribution of the word 'mathematics' in dimension 486 = 0.866637\n",
      "Following are the top words in dimension 486 along with their contributions\n",
      "[(1.0, 'university'), (1.0, 'undergraduate'), (1.0, 'sociology'), (1.0, 'professor'), (1.0, 'phd'), (1.0, 'humanities'), (1.0, 'graduate'), (1.0, 'doctorate'), (1.0, 'degree'), (1.0, 'bachelor')]\n",
      "The contribution of the word 'mathematics' in dimension 513 = 0.693688\n",
      "Following are the top words in dimension 513 along with their contributions\n",
      "[(1.0, 'mathematical'), (1.0, 'equations'), (0.980986, 'theory'), (0.950713, 'quantum'), (0.877196, 'equation'), (0.845076, 'theoretical'), (0.825598, 'physics'), (0.824139, 'computational'), (0.81905, 'empirical'), (0.717057, 'calculus')]\n",
      "The contribution of the word 'mathematics' in dimension 822 = 0.659560\n",
      "Following are the top words in dimension 822 along with their contributions\n",
      "[(1.0, 'vocational'), (1.0, 'students'), (1.0, 'school'), (1.0, 'kindergarten'), (1.0, 'grades'), (1.0, 'exams'), (1.0, 'diploma'), (1.0, 'curriculum'), (1.0, 'courses'), (0.996355, 'pupils')]\n",
      "The contribution of the word 'mathematics' in dimension 193 = 0.581674\n",
      "Following are the top words in dimension 193 along with their contributions\n",
      "[(1.0, 'william'), (1.0, 'virginia'), (1.0, 'university'), (1.0, 'served'), (1.0, 'school'), (1.0, 'located'), (1.0, 'district'), (1.0, 'county'), (1.0, 'college'), (1.0, 'born')]\n"
     ]
    }
   ],
   "source": [
    "visualize_online.find_top_participating_dimensions(\"mathematics\", 5)"
   ]
  },
  {
   "cell_type": "code",
   "execution_count": 7,
   "metadata": {},
   "outputs": [
    {
     "name": "stdout",
     "output_type": "stream",
     "text": [
      " -----------------------------------------------------\n",
      "Word of interest =  internet\n",
      "The contribution of the word 'internet' in dimension 737 = 0.783821\n",
      "Following are the top words in dimension 737 along with their contributions\n",
      "[(1.0, 'windows'), (1.0, 'users'), (1.0, 'user'), (1.0, 'software'), (1.0, 'server'), (1.0, 'interface'), (1.0, 'desktop'), (1.0, 'browser'), (0.981158, 'linux'), (0.951162, 'os')]\n",
      "The contribution of the word 'internet' in dimension 403 = 0.781103\n",
      "Following are the top words in dimension 403 along with their contributions\n",
      "[(1.0, 'youtube'), (0.919535, 'myspace'), (0.869839, 'twitter'), (0.858156, 'advertising'), (0.840354, 'ads'), (0.816447, 'facebook'), (0.781103, 'internet'), (0.777614, 'advertisers'), (0.75083, 'online'), (0.73927, 'mtv')]\n",
      "The contribution of the word 'internet' in dimension 125 = 0.567733\n",
      "Following are the top words in dimension 125 along with their contributions\n",
      "[(1.0, 'wireless'), (1.0, 'telephone'), (1.0, 'optic'), (1.0, 'cellular'), (1.0, 'cable'), (1.0, 'broadband'), (0.997854, 'telecom'), (0.997213, '3g'), (0.98463, 'communications'), (0.971955, 'telecommunications')]\n",
      "The contribution of the word 'internet' in dimension 95 = 0.517186\n",
      "Following are the top words in dimension 95 along with their contributions\n",
      "[(0.602929, 'google'), (0.534104, 'spam'), (0.523129, 'filtering'), (0.520002, 'browser'), (0.517186, 'internet'), (0.475218, 'facebook'), (0.454766, 'chat'), (0.452599, 'aol'), (0.440077, 'myspace'), (0.4343, 'email')]\n",
      "The contribution of the word 'internet' in dimension 68 = 0.440611\n",
      "Following are the top words in dimension 68 along with their contributions\n",
      "[(0.811834, 'chat'), (0.773433, 'email'), (0.714491, 'mail'), (0.67958, 'blogs'), (0.678646, 'twitter'), (0.664534, 'facebook'), (0.6645, 'e'), (0.623722, 'messages'), (0.613469, 'blog'), (0.60615, 'messaging')]\n"
     ]
    }
   ],
   "source": [
    "visualize_online.find_top_participating_dimensions(\"internet\", 5)"
   ]
  },
  {
   "cell_type": "markdown",
   "metadata": {},
   "source": [
    "For the word _internet_, we again observe (and interpret) interesting dimensions, relating to\n",
    "\n",
    "- popular websites on internet: youtube, myspace, twitter etc.\n",
    "- Instant messaging/communication: chat, email, mail etc.\n",
    "- networking terms related to internet: wireless, telephone, cellular, broadband etc."
   ]
  },
  {
   "cell_type": "code",
   "execution_count": null,
   "metadata": {},
   "outputs": [],
   "source": []
  }
 ],
 "metadata": {
  "kernelspec": {
   "display_name": "Python 3",
   "language": "python",
   "name": "python3"
  },
  "language_info": {
   "codemirror_mode": {
    "name": "ipython",
    "version": 3
   },
   "file_extension": ".py",
   "mimetype": "text/x-python",
   "name": "python",
   "nbconvert_exporter": "python",
   "pygments_lexer": "ipython3",
   "version": "3.6.8"
  }
 },
 "nbformat": 4,
 "nbformat_minor": 2
}
